{
 "cells": [
  {
   "cell_type": "code",
   "execution_count": 1,
   "id": "00f60701-c407-4ca3-9813-4ce2f253a461",
   "metadata": {
    "tags": []
   },
   "outputs": [],
   "source": [
    "import pyspark\n",
    "import findspark\n",
    "from pyspark.ml.feature import VectorAssembler\n",
    "from pyspark.ml.regression import LinearRegression\n",
    "from pyspark.sql import SparkSession\n",
    "\n",
    "import pandas as pd\n",
    "\n",
    "from pyspark.ml.evaluation import RegressionEvaluator"
   ]
  },
  {
   "cell_type": "code",
   "execution_count": 2,
   "id": "f64d8980-57a4-4d2b-a87f-200b423a0414",
   "metadata": {
    "tags": []
   },
   "outputs": [
    {
     "name": "stderr",
     "output_type": "stream",
     "text": [
      "23/04/19 20:07:32 WARN Utils: Your hostname, MacBook-Air-Evgenij.local resolves to a loopback address: 127.0.0.1; using 192.168.0.102 instead (on interface en0)\n",
      "23/04/19 20:07:32 WARN Utils: Set SPARK_LOCAL_IP if you need to bind to another address\n",
      "Setting default log level to \"WARN\".\n",
      "To adjust logging level use sc.setLogLevel(newLevel). For SparkR, use setLogLevel(newLevel).\n",
      "23/04/19 20:07:33 WARN NativeCodeLoader: Unable to load native-hadoop library for your platform... using builtin-java classes where applicable\n"
     ]
    },
    {
     "data": {
      "text/html": [
       "\n",
       "            <div>\n",
       "                <p><b>SparkSession - in-memory</b></p>\n",
       "                \n",
       "        <div>\n",
       "            <p><b>SparkContext</b></p>\n",
       "\n",
       "            <p><a href=\"http://192.168.0.102:4040\">Spark UI</a></p>\n",
       "\n",
       "            <dl>\n",
       "              <dt>Version</dt>\n",
       "                <dd><code>v3.4.0</code></dd>\n",
       "              <dt>Master</dt>\n",
       "                <dd><code>local[*]</code></dd>\n",
       "              <dt>AppName</dt>\n",
       "                <dd><code>pyspark-shell</code></dd>\n",
       "            </dl>\n",
       "        </div>\n",
       "        \n",
       "            </div>\n",
       "        "
      ],
      "text/plain": [
       "<pyspark.sql.session.SparkSession at 0x128b3ceb0>"
      ]
     },
     "execution_count": 2,
     "metadata": {},
     "output_type": "execute_result"
    }
   ],
   "source": [
    "spark = SparkSession.builder.master('local[*]').getOrCreate()\n",
    "spark"
   ]
  },
  {
   "cell_type": "code",
   "execution_count": 3,
   "id": "d614bf45-556f-47a2-a1e8-468105391d32",
   "metadata": {
    "tags": []
   },
   "outputs": [
    {
     "data": {
      "text/html": [
       "<div>\n",
       "<style scoped>\n",
       "    .dataframe tbody tr th:only-of-type {\n",
       "        vertical-align: middle;\n",
       "    }\n",
       "\n",
       "    .dataframe tbody tr th {\n",
       "        vertical-align: top;\n",
       "    }\n",
       "\n",
       "    .dataframe thead th {\n",
       "        text-align: right;\n",
       "    }\n",
       "</style>\n",
       "<table border=\"1\" class=\"dataframe\">\n",
       "  <thead>\n",
       "    <tr style=\"text-align: right;\">\n",
       "      <th></th>\n",
       "      <th>id</th>\n",
       "      <th>timestamp</th>\n",
       "      <th>full_sq</th>\n",
       "      <th>life_sq</th>\n",
       "      <th>floor</th>\n",
       "      <th>max_floor</th>\n",
       "      <th>material</th>\n",
       "      <th>build_year</th>\n",
       "      <th>num_room</th>\n",
       "      <th>kitch_sq</th>\n",
       "      <th>...</th>\n",
       "      <th>cafe_count_5000_price_2500</th>\n",
       "      <th>cafe_count_5000_price_4000</th>\n",
       "      <th>cafe_count_5000_price_high</th>\n",
       "      <th>big_church_count_5000</th>\n",
       "      <th>church_count_5000</th>\n",
       "      <th>mosque_count_5000</th>\n",
       "      <th>leisure_count_5000</th>\n",
       "      <th>sport_count_5000</th>\n",
       "      <th>market_count_5000</th>\n",
       "      <th>price_doc</th>\n",
       "    </tr>\n",
       "  </thead>\n",
       "  <tbody>\n",
       "    <tr>\n",
       "      <th>0</th>\n",
       "      <td>1</td>\n",
       "      <td>2011-08-20</td>\n",
       "      <td>43</td>\n",
       "      <td>27.0</td>\n",
       "      <td>4.0</td>\n",
       "      <td>NaN</td>\n",
       "      <td>NaN</td>\n",
       "      <td>NaN</td>\n",
       "      <td>NaN</td>\n",
       "      <td>NaN</td>\n",
       "      <td>...</td>\n",
       "      <td>9</td>\n",
       "      <td>4</td>\n",
       "      <td>0</td>\n",
       "      <td>13</td>\n",
       "      <td>22</td>\n",
       "      <td>1</td>\n",
       "      <td>0</td>\n",
       "      <td>52</td>\n",
       "      <td>4</td>\n",
       "      <td>5850000</td>\n",
       "    </tr>\n",
       "    <tr>\n",
       "      <th>1</th>\n",
       "      <td>2</td>\n",
       "      <td>2011-08-23</td>\n",
       "      <td>34</td>\n",
       "      <td>19.0</td>\n",
       "      <td>3.0</td>\n",
       "      <td>NaN</td>\n",
       "      <td>NaN</td>\n",
       "      <td>NaN</td>\n",
       "      <td>NaN</td>\n",
       "      <td>NaN</td>\n",
       "      <td>...</td>\n",
       "      <td>15</td>\n",
       "      <td>3</td>\n",
       "      <td>0</td>\n",
       "      <td>15</td>\n",
       "      <td>29</td>\n",
       "      <td>1</td>\n",
       "      <td>10</td>\n",
       "      <td>66</td>\n",
       "      <td>14</td>\n",
       "      <td>6000000</td>\n",
       "    </tr>\n",
       "    <tr>\n",
       "      <th>2</th>\n",
       "      <td>3</td>\n",
       "      <td>2011-08-27</td>\n",
       "      <td>43</td>\n",
       "      <td>29.0</td>\n",
       "      <td>2.0</td>\n",
       "      <td>NaN</td>\n",
       "      <td>NaN</td>\n",
       "      <td>NaN</td>\n",
       "      <td>NaN</td>\n",
       "      <td>NaN</td>\n",
       "      <td>...</td>\n",
       "      <td>10</td>\n",
       "      <td>3</td>\n",
       "      <td>0</td>\n",
       "      <td>11</td>\n",
       "      <td>27</td>\n",
       "      <td>0</td>\n",
       "      <td>4</td>\n",
       "      <td>67</td>\n",
       "      <td>10</td>\n",
       "      <td>5700000</td>\n",
       "    </tr>\n",
       "    <tr>\n",
       "      <th>3</th>\n",
       "      <td>4</td>\n",
       "      <td>2011-09-01</td>\n",
       "      <td>89</td>\n",
       "      <td>50.0</td>\n",
       "      <td>9.0</td>\n",
       "      <td>NaN</td>\n",
       "      <td>NaN</td>\n",
       "      <td>NaN</td>\n",
       "      <td>NaN</td>\n",
       "      <td>NaN</td>\n",
       "      <td>...</td>\n",
       "      <td>11</td>\n",
       "      <td>2</td>\n",
       "      <td>1</td>\n",
       "      <td>4</td>\n",
       "      <td>4</td>\n",
       "      <td>0</td>\n",
       "      <td>0</td>\n",
       "      <td>26</td>\n",
       "      <td>3</td>\n",
       "      <td>13100000</td>\n",
       "    </tr>\n",
       "    <tr>\n",
       "      <th>4</th>\n",
       "      <td>5</td>\n",
       "      <td>2011-09-05</td>\n",
       "      <td>77</td>\n",
       "      <td>77.0</td>\n",
       "      <td>4.0</td>\n",
       "      <td>NaN</td>\n",
       "      <td>NaN</td>\n",
       "      <td>NaN</td>\n",
       "      <td>NaN</td>\n",
       "      <td>NaN</td>\n",
       "      <td>...</td>\n",
       "      <td>319</td>\n",
       "      <td>108</td>\n",
       "      <td>17</td>\n",
       "      <td>135</td>\n",
       "      <td>236</td>\n",
       "      <td>2</td>\n",
       "      <td>91</td>\n",
       "      <td>195</td>\n",
       "      <td>14</td>\n",
       "      <td>16331452</td>\n",
       "    </tr>\n",
       "  </tbody>\n",
       "</table>\n",
       "<p>5 rows × 292 columns</p>\n",
       "</div>"
      ],
      "text/plain": [
       "   id   timestamp  full_sq  life_sq  floor  max_floor  material  build_year   \n",
       "0   1  2011-08-20       43     27.0    4.0        NaN       NaN         NaN  \\\n",
       "1   2  2011-08-23       34     19.0    3.0        NaN       NaN         NaN   \n",
       "2   3  2011-08-27       43     29.0    2.0        NaN       NaN         NaN   \n",
       "3   4  2011-09-01       89     50.0    9.0        NaN       NaN         NaN   \n",
       "4   5  2011-09-05       77     77.0    4.0        NaN       NaN         NaN   \n",
       "\n",
       "   num_room  kitch_sq  ...  cafe_count_5000_price_2500   \n",
       "0       NaN       NaN  ...                           9  \\\n",
       "1       NaN       NaN  ...                          15   \n",
       "2       NaN       NaN  ...                          10   \n",
       "3       NaN       NaN  ...                          11   \n",
       "4       NaN       NaN  ...                         319   \n",
       "\n",
       "  cafe_count_5000_price_4000 cafe_count_5000_price_high   \n",
       "0                          4                          0  \\\n",
       "1                          3                          0   \n",
       "2                          3                          0   \n",
       "3                          2                          1   \n",
       "4                        108                         17   \n",
       "\n",
       "   big_church_count_5000  church_count_5000  mosque_count_5000   \n",
       "0                     13                 22                  1  \\\n",
       "1                     15                 29                  1   \n",
       "2                     11                 27                  0   \n",
       "3                      4                  4                  0   \n",
       "4                    135                236                  2   \n",
       "\n",
       "   leisure_count_5000  sport_count_5000  market_count_5000  price_doc  \n",
       "0                   0                52                  4    5850000  \n",
       "1                  10                66                 14    6000000  \n",
       "2                   4                67                 10    5700000  \n",
       "3                   0                26                  3   13100000  \n",
       "4                  91               195                 14   16331452  \n",
       "\n",
       "[5 rows x 292 columns]"
      ]
     },
     "execution_count": 3,
     "metadata": {},
     "output_type": "execute_result"
    }
   ],
   "source": [
    "df = pd.read_csv('./train.csv')\n",
    "df.head()"
   ]
  },
  {
   "cell_type": "code",
   "execution_count": 4,
   "id": "993e1e08-c188-4192-a42f-bfedf400bf24",
   "metadata": {
    "tags": []
   },
   "outputs": [],
   "source": [
    "df.fillna(0, inplace=True)"
   ]
  },
  {
   "cell_type": "code",
   "execution_count": 5,
   "id": "a51fc9e0-1ee5-4f6e-9a89-007c4348588a",
   "metadata": {
    "tags": []
   },
   "outputs": [],
   "source": [
    "columns = ['price_doc', 'timestamp', 'full_sq', 'life_sq', 'floor', 'max_floor', 'material', 'build_year', 'num_room', 'kitch_sq', 'state', 'product_type', 'sub_area']\n",
    "df = df[columns]"
   ]
  },
  {
   "cell_type": "code",
   "execution_count": 6,
   "id": "06403c34-7f1d-4ee3-9304-bca55b4aa559",
   "metadata": {
    "tags": []
   },
   "outputs": [
    {
     "data": {
      "text/html": [
       "<div>\n",
       "<style scoped>\n",
       "    .dataframe tbody tr th:only-of-type {\n",
       "        vertical-align: middle;\n",
       "    }\n",
       "\n",
       "    .dataframe tbody tr th {\n",
       "        vertical-align: top;\n",
       "    }\n",
       "\n",
       "    .dataframe thead th {\n",
       "        text-align: right;\n",
       "    }\n",
       "</style>\n",
       "<table border=\"1\" class=\"dataframe\">\n",
       "  <thead>\n",
       "    <tr style=\"text-align: right;\">\n",
       "      <th></th>\n",
       "      <th>price_doc</th>\n",
       "      <th>full_sq</th>\n",
       "      <th>life_sq</th>\n",
       "      <th>floor</th>\n",
       "      <th>max_floor</th>\n",
       "      <th>material</th>\n",
       "      <th>build_year</th>\n",
       "      <th>num_room</th>\n",
       "      <th>kitch_sq</th>\n",
       "      <th>state</th>\n",
       "    </tr>\n",
       "  </thead>\n",
       "  <tbody>\n",
       "    <tr>\n",
       "      <th>0</th>\n",
       "      <td>5850000</td>\n",
       "      <td>43</td>\n",
       "      <td>27.0</td>\n",
       "      <td>4.0</td>\n",
       "      <td>0.0</td>\n",
       "      <td>0.0</td>\n",
       "      <td>0.0</td>\n",
       "      <td>0.0</td>\n",
       "      <td>0.0</td>\n",
       "      <td>0.0</td>\n",
       "    </tr>\n",
       "    <tr>\n",
       "      <th>1</th>\n",
       "      <td>6000000</td>\n",
       "      <td>34</td>\n",
       "      <td>19.0</td>\n",
       "      <td>3.0</td>\n",
       "      <td>0.0</td>\n",
       "      <td>0.0</td>\n",
       "      <td>0.0</td>\n",
       "      <td>0.0</td>\n",
       "      <td>0.0</td>\n",
       "      <td>0.0</td>\n",
       "    </tr>\n",
       "    <tr>\n",
       "      <th>2</th>\n",
       "      <td>5700000</td>\n",
       "      <td>43</td>\n",
       "      <td>29.0</td>\n",
       "      <td>2.0</td>\n",
       "      <td>0.0</td>\n",
       "      <td>0.0</td>\n",
       "      <td>0.0</td>\n",
       "      <td>0.0</td>\n",
       "      <td>0.0</td>\n",
       "      <td>0.0</td>\n",
       "    </tr>\n",
       "    <tr>\n",
       "      <th>3</th>\n",
       "      <td>13100000</td>\n",
       "      <td>89</td>\n",
       "      <td>50.0</td>\n",
       "      <td>9.0</td>\n",
       "      <td>0.0</td>\n",
       "      <td>0.0</td>\n",
       "      <td>0.0</td>\n",
       "      <td>0.0</td>\n",
       "      <td>0.0</td>\n",
       "      <td>0.0</td>\n",
       "    </tr>\n",
       "    <tr>\n",
       "      <th>4</th>\n",
       "      <td>16331452</td>\n",
       "      <td>77</td>\n",
       "      <td>77.0</td>\n",
       "      <td>4.0</td>\n",
       "      <td>0.0</td>\n",
       "      <td>0.0</td>\n",
       "      <td>0.0</td>\n",
       "      <td>0.0</td>\n",
       "      <td>0.0</td>\n",
       "      <td>0.0</td>\n",
       "    </tr>\n",
       "  </tbody>\n",
       "</table>\n",
       "</div>"
      ],
      "text/plain": [
       "   price_doc  full_sq  life_sq  floor  max_floor  material  build_year   \n",
       "0    5850000       43     27.0    4.0        0.0       0.0         0.0  \\\n",
       "1    6000000       34     19.0    3.0        0.0       0.0         0.0   \n",
       "2    5700000       43     29.0    2.0        0.0       0.0         0.0   \n",
       "3   13100000       89     50.0    9.0        0.0       0.0         0.0   \n",
       "4   16331452       77     77.0    4.0        0.0       0.0         0.0   \n",
       "\n",
       "   num_room  kitch_sq  state  \n",
       "0       0.0       0.0    0.0  \n",
       "1       0.0       0.0    0.0  \n",
       "2       0.0       0.0    0.0  \n",
       "3       0.0       0.0    0.0  \n",
       "4       0.0       0.0    0.0  "
      ]
     },
     "execution_count": 6,
     "metadata": {},
     "output_type": "execute_result"
    }
   ],
   "source": [
    "df = df._get_numeric_data()\n",
    "df.head()"
   ]
  },
  {
   "cell_type": "code",
   "execution_count": 7,
   "id": "fb9b4cc4-ca48-4160-b559-e6084c976741",
   "metadata": {
    "tags": []
   },
   "outputs": [],
   "source": [
    "df.to_csv('train_for_HW_l4.csv', index=False)"
   ]
  },
  {
   "cell_type": "code",
   "execution_count": 8,
   "id": "862240d2-89f8-404d-926d-92fa0800a77a",
   "metadata": {
    "tags": []
   },
   "outputs": [
    {
     "name": "stdout",
     "output_type": "stream",
     "text": [
      "root\n",
      " |-- price_doc: integer (nullable = true)\n",
      " |-- full_sq: integer (nullable = true)\n",
      " |-- life_sq: double (nullable = true)\n",
      " |-- floor: double (nullable = true)\n",
      " |-- max_floor: double (nullable = true)\n",
      " |-- material: double (nullable = true)\n",
      " |-- build_year: double (nullable = true)\n",
      " |-- num_room: double (nullable = true)\n",
      " |-- kitch_sq: double (nullable = true)\n",
      " |-- state: double (nullable = true)\n",
      "\n"
     ]
    }
   ],
   "source": [
    "dataset = spark.read.csv('./train_for_HW_l4.csv', inferSchema=True, header=True)\n",
    "dataset.printSchema()"
   ]
  },
  {
   "cell_type": "code",
   "execution_count": 9,
   "id": "f9cabe7d-e64b-43f8-ba45-e4ab9c818921",
   "metadata": {
    "tags": []
   },
   "outputs": [
    {
     "name": "stdout",
     "output_type": "stream",
     "text": [
      "+---------+-------+-------+-----+---------+--------+----------+--------+--------+-----+\n",
      "|price_doc|full_sq|life_sq|floor|max_floor|material|build_year|num_room|kitch_sq|state|\n",
      "+---------+-------+-------+-----+---------+--------+----------+--------+--------+-----+\n",
      "|  5850000|     43|   27.0|  4.0|      0.0|     0.0|       0.0|     0.0|     0.0|  0.0|\n",
      "|  6000000|     34|   19.0|  3.0|      0.0|     0.0|       0.0|     0.0|     0.0|  0.0|\n",
      "|  5700000|     43|   29.0|  2.0|      0.0|     0.0|       0.0|     0.0|     0.0|  0.0|\n",
      "| 13100000|     89|   50.0|  9.0|      0.0|     0.0|       0.0|     0.0|     0.0|  0.0|\n",
      "| 16331452|     77|   77.0|  4.0|      0.0|     0.0|       0.0|     0.0|     0.0|  0.0|\n",
      "|  9100000|     67|   46.0| 14.0|      0.0|     0.0|       0.0|     0.0|     0.0|  0.0|\n",
      "|  5500000|     25|   14.0| 10.0|      0.0|     0.0|       0.0|     0.0|     0.0|  0.0|\n",
      "|  2000000|     44|   44.0|  5.0|      0.0|     0.0|       0.0|     0.0|     0.0|  0.0|\n",
      "|  5300000|     42|   27.0|  5.0|      0.0|     0.0|       0.0|     0.0|     0.0|  0.0|\n",
      "|  2000000|     36|   21.0|  9.0|      0.0|     0.0|       0.0|     0.0|     0.0|  0.0|\n",
      "|  4650000|     36|   19.0| 12.0|      0.0|     0.0|       0.0|     0.0|     0.0|  0.0|\n",
      "|  4800000|     38|   19.0| 11.0|      0.0|     0.0|       0.0|     0.0|     0.0|  0.0|\n",
      "|  5100000|     43|   28.0|  4.0|      0.0|     0.0|       0.0|     0.0|     0.0|  0.0|\n",
      "|  5200000|     31|   31.0|  4.0|      0.0|     0.0|       0.0|     0.0|     0.0|  0.0|\n",
      "|  5000000|     31|   21.0|  3.0|      0.0|     0.0|       0.0|     0.0|     0.0|  0.0|\n",
      "|  1850000|     51|   31.0| 15.0|      0.0|     0.0|       0.0|     0.0|     0.0|  0.0|\n",
      "|  6300000|     47|   31.0|  4.0|      0.0|     0.0|       0.0|     0.0|     0.0|  0.0|\n",
      "|  5900000|     42|   28.0|  2.0|      0.0|     0.0|       0.0|     0.0|     0.0|  0.0|\n",
      "|  7900000|     59|   33.0| 10.0|      0.0|     0.0|       0.0|     0.0|     0.0|  0.0|\n",
      "|  5200000|     44|   29.0|  4.0|      0.0|     0.0|       0.0|     0.0|     0.0|  0.0|\n",
      "+---------+-------+-------+-----+---------+--------+----------+--------+--------+-----+\n",
      "only showing top 20 rows\n",
      "\n"
     ]
    }
   ],
   "source": [
    "dataset.show()"
   ]
  },
  {
   "cell_type": "code",
   "execution_count": 10,
   "id": "0173e2c5-a28c-44ca-811c-b27340795b1a",
   "metadata": {
    "tags": []
   },
   "outputs": [
    {
     "data": {
      "text/plain": [
       "['price_doc',\n",
       " 'full_sq',\n",
       " 'life_sq',\n",
       " 'floor',\n",
       " 'max_floor',\n",
       " 'material',\n",
       " 'build_year',\n",
       " 'num_room',\n",
       " 'kitch_sq',\n",
       " 'state']"
      ]
     },
     "execution_count": 10,
     "metadata": {},
     "output_type": "execute_result"
    }
   ],
   "source": [
    "dataset.columns"
   ]
  },
  {
   "cell_type": "code",
   "execution_count": 11,
   "id": "09b64884-976e-4bc2-94e9-12591c49f242",
   "metadata": {},
   "outputs": [],
   "source": [
    "input_col = ['full_sq',\n",
    " 'life_sq',\n",
    " 'floor',\n",
    " 'max_floor',\n",
    " 'material',\n",
    " 'build_year',\n",
    " 'num_room',\n",
    " 'kitch_sq',\n",
    " 'state']"
   ]
  },
  {
   "cell_type": "code",
   "execution_count": 12,
   "id": "74b2f636-1386-4f99-ab3a-0f1a6b5704f2",
   "metadata": {
    "tags": []
   },
   "outputs": [
    {
     "name": "stdout",
     "output_type": "stream",
     "text": [
      "+--------------------+---------+\n",
      "|          Attributes|price_doc|\n",
      "+--------------------+---------+\n",
      "|(9,[0,1,2],[43.0,...|  5850000|\n",
      "|(9,[0,1,2],[34.0,...|  6000000|\n",
      "|(9,[0,1,2],[43.0,...|  5700000|\n",
      "|(9,[0,1,2],[89.0,...| 13100000|\n",
      "|(9,[0,1,2],[77.0,...| 16331452|\n",
      "|(9,[0,1,2],[67.0,...|  9100000|\n",
      "|(9,[0,1,2],[25.0,...|  5500000|\n",
      "|(9,[0,1,2],[44.0,...|  2000000|\n",
      "|(9,[0,1,2],[42.0,...|  5300000|\n",
      "|(9,[0,1,2],[36.0,...|  2000000|\n",
      "|(9,[0,1,2],[36.0,...|  4650000|\n",
      "|(9,[0,1,2],[38.0,...|  4800000|\n",
      "|(9,[0,1,2],[43.0,...|  5100000|\n",
      "|(9,[0,1,2],[31.0,...|  5200000|\n",
      "|(9,[0,1,2],[31.0,...|  5000000|\n",
      "|(9,[0,1,2],[51.0,...|  1850000|\n",
      "|(9,[0,1,2],[47.0,...|  6300000|\n",
      "|(9,[0,1,2],[42.0,...|  5900000|\n",
      "|(9,[0,1,2],[59.0,...|  7900000|\n",
      "|(9,[0,1,2],[44.0,...|  5200000|\n",
      "+--------------------+---------+\n",
      "only showing top 20 rows\n",
      "\n"
     ]
    }
   ],
   "source": [
    "assembler = VectorAssembler(inputCols=['full_sq', 'life_sq', 'floor', 'max_floor', 'material', 'build_year', 'num_room', 'kitch_sq', 'state'], outputCol='Attributes')\n",
    "\n",
    "output = assembler.transform(dataset)\n",
    "\n",
    "finalized_data = output.select('Attributes', 'price_doc')\n",
    "\n",
    "finalized_data.show()"
   ]
  },
  {
   "cell_type": "code",
   "execution_count": 13,
   "id": "e73e9815-aed4-4309-b7e9-8f0e30cd9a68",
   "metadata": {
    "tags": []
   },
   "outputs": [
    {
     "name": "stderr",
     "output_type": "stream",
     "text": [
      "23/04/19 20:07:39 WARN Instrumentation: [8649205f] regParam is zero, which might cause numerical instability and overfitting.\n",
      "23/04/19 20:07:39 WARN InstanceBuilder: Failed to load implementation from:dev.ludovic.netlib.blas.JNIBLAS\n",
      "23/04/19 20:07:39 WARN InstanceBuilder: Failed to load implementation from:dev.ludovic.netlib.blas.VectorBLAS\n",
      "23/04/19 20:07:39 WARN InstanceBuilder: Failed to load implementation from:dev.ludovic.netlib.lapack.JNILAPACK\n"
     ]
    },
    {
     "name": "stdout",
     "output_type": "stream",
     "text": [
      "+--------------------+---------+------------------+\n",
      "|          Attributes|price_doc|        prediction|\n",
      "+--------------------+---------+------------------+\n",
      "|      (9,[0],[51.0])|  4281587| 4453806.270854042|\n",
      "|      (9,[0],[60.0])|  5753200| 4705147.671277579|\n",
      "|      (9,[0],[93.0])|  5334133| 5626732.806163879|\n",
      "|      (9,[0],[97.0])|  8056968| 5738440.095241006|\n",
      "|     (9,[0],[100.0])| 14604042| 5822220.562048852|\n",
      "|     (9,[0],[138.0])|  5624541| 6883439.808281562|\n",
      "|     (9,[0],[159.0])|  7434966| 7469903.075936481|\n",
      "|(9,[0,1],[18.0,38...|  5200000|3857601.3512517335|\n",
      "|(9,[0,1],[25.0,10...|  2000000|  3813335.26429587|\n",
      "|(9,[0,1],[25.0,10...|  4100000|  3813335.26429587|\n",
      "|(9,[0,1],[32.0,15...|  4000000| 4051636.206402421|\n",
      "|(9,[0,1],[34.0,19...|  4480000| 4141740.399918247|\n",
      "|(9,[0,1],[34.0,20...|  2000000|4150303.0371625624|\n",
      "|(9,[0,1],[34.0,20...|  5700000|4150303.0371625624|\n",
      "|(9,[0,1],[35.0,19...|  1000000|4169667.2221875284|\n",
      "|(9,[0,1],[38.0,19...|  6200000| 4253447.688995374|\n",
      "|(9,[0,1],[38.0,20...|  1000000|  4262010.32623969|\n",
      "|(9,[0,1],[42.0,28...|  7600000| 4442218.713271342|\n",
      "|(9,[0,1],[43.0,29...|   990000| 4478708.172784939|\n",
      "|(9,[0,1],[43.0,38...|  3871250|  4555771.90798378|\n",
      "+--------------------+---------+------------------+\n",
      "only showing top 20 rows\n",
      "\n"
     ]
    }
   ],
   "source": [
    "train_data, test_data = finalized_data.randomSplit([0.8, 0.2])\n",
    "\n",
    "regressor = LinearRegression(featuresCol='Attributes', labelCol='price_doc')\n",
    "\n",
    "regressor = regressor.fit(train_data)\n",
    "\n",
    "pred = regressor.evaluate(test_data)\n",
    "\n",
    "pred.predictions.show()"
   ]
  },
  {
   "cell_type": "code",
   "execution_count": 14,
   "id": "249ff2ca-ea2b-4831-8b21-1ec90a101606",
   "metadata": {
    "tags": []
   },
   "outputs": [
    {
     "name": "stdout",
     "output_type": "stream",
     "text": [
      "coef: DenseVector([27926.8223, 8562.6372, 125865.458, -66221.4032, -10128.4573, -0.0862, 1354675.8011, 3127.7431, 147784.3606])\n",
      "intr: 3029538.335120668\n"
     ]
    }
   ],
   "source": [
    "coef = regressor.coefficients\n",
    "\n",
    "intr = regressor.intercept\n",
    "\n",
    "print('coef: %a' % coef)\n",
    "print('intr: %a' % intr)"
   ]
  },
  {
   "cell_type": "code",
   "execution_count": 15,
   "id": "f7305356-0b43-41dc-a90a-4fa1010af144",
   "metadata": {
    "tags": []
   },
   "outputs": [],
   "source": [
    "eval = RegressionEvaluator(labelCol='price_doc', predictionCol='prediction', metricName='rmse')"
   ]
  },
  {
   "cell_type": "code",
   "execution_count": 16,
   "id": "356ce685-8dfd-4600-8f85-e4735315b643",
   "metadata": {
    "tags": []
   },
   "outputs": [
    {
     "name": "stdout",
     "output_type": "stream",
     "text": [
      "rmse: 3809861.166\n",
      "mse: 14515042107153.656\n",
      "mae: 2346734.935\n",
      "r2: 0.280\n"
     ]
    },
    {
     "name": "stderr",
     "output_type": "stream",
     "text": [
      "23/04/19 20:07:53 WARN GarbageCollectionMetrics: To enable non-built-in garbage collector(s) List(G1 Concurrent GC), users should configure it(them) to spark.eventLog.gcMetrics.youngGenerationGarbageCollectors or spark.eventLog.gcMetrics.oldGenerationGarbageCollectors\n"
     ]
    }
   ],
   "source": [
    "rmse = eval.evaluate(pred.predictions)\n",
    "print('rmse: %.3f' % rmse)\n",
    "\n",
    "mse = eval.evaluate(pred.predictions, {eval.metricName:'mse'})\n",
    "print('mse: %.3f' % mse)\n",
    "\n",
    "mae = eval.evaluate(pred.predictions, {eval.metricName: \"mae\"})\n",
    "print(\"mae: %.3f\" % mae)\n",
    "\n",
    "r2 = eval.evaluate(pred.predictions, {eval.metricName: \"r2\"})\n",
    "print(\"r2: %.3f\" % r2)"
   ]
  }
 ],
 "metadata": {
  "kernelspec": {
   "display_name": "Python 3 (ipykernel)",
   "language": "python",
   "name": "python3"
  },
  "language_info": {
   "codemirror_mode": {
    "name": "ipython",
    "version": 3
   },
   "file_extension": ".py",
   "mimetype": "text/x-python",
   "name": "python",
   "nbconvert_exporter": "python",
   "pygments_lexer": "ipython3",
   "version": "3.10.10"
  }
 },
 "nbformat": 4,
 "nbformat_minor": 5
}

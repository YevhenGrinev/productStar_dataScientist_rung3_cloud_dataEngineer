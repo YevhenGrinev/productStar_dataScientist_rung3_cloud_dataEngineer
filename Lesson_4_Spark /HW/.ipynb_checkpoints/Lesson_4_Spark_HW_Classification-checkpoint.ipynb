{
 "cells": [
  {
   "cell_type": "code",
   "execution_count": 16,
   "id": "726e525c-7df2-489b-861e-a6febf98881c",
   "metadata": {
    "tags": []
   },
   "outputs": [],
   "source": [
    "import pyspark\n",
    "import findspark\n",
    "from pyspark.sql import SparkSession\n",
    "\n",
    "from pyspark.ml.feature import VectorAssembler\n",
    "from pyspark.ml.classification import LogisticRegression\n",
    "\n",
    "import pandas as pd\n",
    "\n",
    "from pyspark.ml.evaluation import BinaryClassificationEvaluator"
   ]
  },
  {
   "cell_type": "code",
   "execution_count": 2,
   "id": "c74c5e7c-9d59-4de3-9617-ecb3fc7b3547",
   "metadata": {
    "tags": []
   },
   "outputs": [
    {
     "name": "stderr",
     "output_type": "stream",
     "text": [
      "23/04/20 01:18:44 WARN Utils: Your hostname, MacBook-Air-Evgenij.local resolves to a loopback address: 127.0.0.1; using 192.168.0.102 instead (on interface en0)\n",
      "23/04/20 01:18:44 WARN Utils: Set SPARK_LOCAL_IP if you need to bind to another address\n",
      "Setting default log level to \"WARN\".\n",
      "To adjust logging level use sc.setLogLevel(newLevel). For SparkR, use setLogLevel(newLevel).\n",
      "23/04/20 01:18:44 WARN NativeCodeLoader: Unable to load native-hadoop library for your platform... using builtin-java classes where applicable\n"
     ]
    }
   ],
   "source": [
    "spark = SparkSession.builder.master('local[*]').getOrCreate()"
   ]
  },
  {
   "cell_type": "code",
   "execution_count": 3,
   "id": "d997d321-41f9-4170-9f64-06f634b19d0d",
   "metadata": {
    "tags": []
   },
   "outputs": [
    {
     "data": {
      "text/html": [
       "\n",
       "            <div>\n",
       "                <p><b>SparkSession - in-memory</b></p>\n",
       "                \n",
       "        <div>\n",
       "            <p><b>SparkContext</b></p>\n",
       "\n",
       "            <p><a href=\"http://192.168.0.102:4040\">Spark UI</a></p>\n",
       "\n",
       "            <dl>\n",
       "              <dt>Version</dt>\n",
       "                <dd><code>v3.4.0</code></dd>\n",
       "              <dt>Master</dt>\n",
       "                <dd><code>local[*]</code></dd>\n",
       "              <dt>AppName</dt>\n",
       "                <dd><code>pyspark-shell</code></dd>\n",
       "            </dl>\n",
       "        </div>\n",
       "        \n",
       "            </div>\n",
       "        "
      ],
      "text/plain": [
       "<pyspark.sql.session.SparkSession at 0x10fd812d0>"
      ]
     },
     "execution_count": 3,
     "metadata": {},
     "output_type": "execute_result"
    }
   ],
   "source": [
    "spark"
   ]
  },
  {
   "cell_type": "code",
   "execution_count": 4,
   "id": "9701c777-8acb-4d3b-a857-9fcd6eb867b1",
   "metadata": {
    "tags": []
   },
   "outputs": [],
   "source": [
    "df = pd.read_csv('./santander-customer-transaction-prediction/train.csv')"
   ]
  },
  {
   "cell_type": "code",
   "execution_count": 5,
   "id": "abcf0cee-7721-48ee-8bd1-f1bdf9b049c3",
   "metadata": {
    "tags": []
   },
   "outputs": [
    {
     "data": {
      "text/html": [
       "<div>\n",
       "<style scoped>\n",
       "    .dataframe tbody tr th:only-of-type {\n",
       "        vertical-align: middle;\n",
       "    }\n",
       "\n",
       "    .dataframe tbody tr th {\n",
       "        vertical-align: top;\n",
       "    }\n",
       "\n",
       "    .dataframe thead th {\n",
       "        text-align: right;\n",
       "    }\n",
       "</style>\n",
       "<table border=\"1\" class=\"dataframe\">\n",
       "  <thead>\n",
       "    <tr style=\"text-align: right;\">\n",
       "      <th></th>\n",
       "      <th>ID_code</th>\n",
       "      <th>target</th>\n",
       "      <th>var_0</th>\n",
       "      <th>var_1</th>\n",
       "      <th>var_2</th>\n",
       "      <th>var_3</th>\n",
       "      <th>var_4</th>\n",
       "      <th>var_5</th>\n",
       "      <th>var_6</th>\n",
       "      <th>var_7</th>\n",
       "      <th>...</th>\n",
       "      <th>var_190</th>\n",
       "      <th>var_191</th>\n",
       "      <th>var_192</th>\n",
       "      <th>var_193</th>\n",
       "      <th>var_194</th>\n",
       "      <th>var_195</th>\n",
       "      <th>var_196</th>\n",
       "      <th>var_197</th>\n",
       "      <th>var_198</th>\n",
       "      <th>var_199</th>\n",
       "    </tr>\n",
       "  </thead>\n",
       "  <tbody>\n",
       "    <tr>\n",
       "      <th>0</th>\n",
       "      <td>train_0</td>\n",
       "      <td>0</td>\n",
       "      <td>8.9255</td>\n",
       "      <td>-6.7863</td>\n",
       "      <td>11.9081</td>\n",
       "      <td>5.0930</td>\n",
       "      <td>11.4607</td>\n",
       "      <td>-9.2834</td>\n",
       "      <td>5.1187</td>\n",
       "      <td>18.6266</td>\n",
       "      <td>...</td>\n",
       "      <td>4.4354</td>\n",
       "      <td>3.9642</td>\n",
       "      <td>3.1364</td>\n",
       "      <td>1.6910</td>\n",
       "      <td>18.5227</td>\n",
       "      <td>-2.3978</td>\n",
       "      <td>7.8784</td>\n",
       "      <td>8.5635</td>\n",
       "      <td>12.7803</td>\n",
       "      <td>-1.0914</td>\n",
       "    </tr>\n",
       "    <tr>\n",
       "      <th>1</th>\n",
       "      <td>train_1</td>\n",
       "      <td>0</td>\n",
       "      <td>11.5006</td>\n",
       "      <td>-4.1473</td>\n",
       "      <td>13.8588</td>\n",
       "      <td>5.3890</td>\n",
       "      <td>12.3622</td>\n",
       "      <td>7.0433</td>\n",
       "      <td>5.6208</td>\n",
       "      <td>16.5338</td>\n",
       "      <td>...</td>\n",
       "      <td>7.6421</td>\n",
       "      <td>7.7214</td>\n",
       "      <td>2.5837</td>\n",
       "      <td>10.9516</td>\n",
       "      <td>15.4305</td>\n",
       "      <td>2.0339</td>\n",
       "      <td>8.1267</td>\n",
       "      <td>8.7889</td>\n",
       "      <td>18.3560</td>\n",
       "      <td>1.9518</td>\n",
       "    </tr>\n",
       "    <tr>\n",
       "      <th>2</th>\n",
       "      <td>train_2</td>\n",
       "      <td>0</td>\n",
       "      <td>8.6093</td>\n",
       "      <td>-2.7457</td>\n",
       "      <td>12.0805</td>\n",
       "      <td>7.8928</td>\n",
       "      <td>10.5825</td>\n",
       "      <td>-9.0837</td>\n",
       "      <td>6.9427</td>\n",
       "      <td>14.6155</td>\n",
       "      <td>...</td>\n",
       "      <td>2.9057</td>\n",
       "      <td>9.7905</td>\n",
       "      <td>1.6704</td>\n",
       "      <td>1.6858</td>\n",
       "      <td>21.6042</td>\n",
       "      <td>3.1417</td>\n",
       "      <td>-6.5213</td>\n",
       "      <td>8.2675</td>\n",
       "      <td>14.7222</td>\n",
       "      <td>0.3965</td>\n",
       "    </tr>\n",
       "    <tr>\n",
       "      <th>3</th>\n",
       "      <td>train_3</td>\n",
       "      <td>0</td>\n",
       "      <td>11.0604</td>\n",
       "      <td>-2.1518</td>\n",
       "      <td>8.9522</td>\n",
       "      <td>7.1957</td>\n",
       "      <td>12.5846</td>\n",
       "      <td>-1.8361</td>\n",
       "      <td>5.8428</td>\n",
       "      <td>14.9250</td>\n",
       "      <td>...</td>\n",
       "      <td>4.4666</td>\n",
       "      <td>4.7433</td>\n",
       "      <td>0.7178</td>\n",
       "      <td>1.4214</td>\n",
       "      <td>23.0347</td>\n",
       "      <td>-1.2706</td>\n",
       "      <td>-2.9275</td>\n",
       "      <td>10.2922</td>\n",
       "      <td>17.9697</td>\n",
       "      <td>-8.9996</td>\n",
       "    </tr>\n",
       "    <tr>\n",
       "      <th>4</th>\n",
       "      <td>train_4</td>\n",
       "      <td>0</td>\n",
       "      <td>9.8369</td>\n",
       "      <td>-1.4834</td>\n",
       "      <td>12.8746</td>\n",
       "      <td>6.6375</td>\n",
       "      <td>12.2772</td>\n",
       "      <td>2.4486</td>\n",
       "      <td>5.9405</td>\n",
       "      <td>19.2514</td>\n",
       "      <td>...</td>\n",
       "      <td>-1.4905</td>\n",
       "      <td>9.5214</td>\n",
       "      <td>-0.1508</td>\n",
       "      <td>9.1942</td>\n",
       "      <td>13.2876</td>\n",
       "      <td>-1.5121</td>\n",
       "      <td>3.9267</td>\n",
       "      <td>9.5031</td>\n",
       "      <td>17.9974</td>\n",
       "      <td>-8.8104</td>\n",
       "    </tr>\n",
       "  </tbody>\n",
       "</table>\n",
       "<p>5 rows × 202 columns</p>\n",
       "</div>"
      ],
      "text/plain": [
       "   ID_code  target    var_0   var_1    var_2   var_3    var_4   var_5   var_6   \n",
       "0  train_0       0   8.9255 -6.7863  11.9081  5.0930  11.4607 -9.2834  5.1187  \\\n",
       "1  train_1       0  11.5006 -4.1473  13.8588  5.3890  12.3622  7.0433  5.6208   \n",
       "2  train_2       0   8.6093 -2.7457  12.0805  7.8928  10.5825 -9.0837  6.9427   \n",
       "3  train_3       0  11.0604 -2.1518   8.9522  7.1957  12.5846 -1.8361  5.8428   \n",
       "4  train_4       0   9.8369 -1.4834  12.8746  6.6375  12.2772  2.4486  5.9405   \n",
       "\n",
       "     var_7  ...  var_190  var_191  var_192  var_193  var_194  var_195   \n",
       "0  18.6266  ...   4.4354   3.9642   3.1364   1.6910  18.5227  -2.3978  \\\n",
       "1  16.5338  ...   7.6421   7.7214   2.5837  10.9516  15.4305   2.0339   \n",
       "2  14.6155  ...   2.9057   9.7905   1.6704   1.6858  21.6042   3.1417   \n",
       "3  14.9250  ...   4.4666   4.7433   0.7178   1.4214  23.0347  -1.2706   \n",
       "4  19.2514  ...  -1.4905   9.5214  -0.1508   9.1942  13.2876  -1.5121   \n",
       "\n",
       "   var_196  var_197  var_198  var_199  \n",
       "0   7.8784   8.5635  12.7803  -1.0914  \n",
       "1   8.1267   8.7889  18.3560   1.9518  \n",
       "2  -6.5213   8.2675  14.7222   0.3965  \n",
       "3  -2.9275  10.2922  17.9697  -8.9996  \n",
       "4   3.9267   9.5031  17.9974  -8.8104  \n",
       "\n",
       "[5 rows x 202 columns]"
      ]
     },
     "execution_count": 5,
     "metadata": {},
     "output_type": "execute_result"
    }
   ],
   "source": [
    "df.head()"
   ]
  },
  {
   "cell_type": "code",
   "execution_count": 6,
   "id": "ab44d95c-120d-44bc-9837-84c3a6c680f5",
   "metadata": {
    "tags": []
   },
   "outputs": [
    {
     "data": {
      "text/plain": [
       "ID_code     object\n",
       "target       int64\n",
       "var_0      float64\n",
       "var_1      float64\n",
       "var_2      float64\n",
       "            ...   \n",
       "var_195    float64\n",
       "var_196    float64\n",
       "var_197    float64\n",
       "var_198    float64\n",
       "var_199    float64\n",
       "Length: 202, dtype: object"
      ]
     },
     "execution_count": 6,
     "metadata": {},
     "output_type": "execute_result"
    }
   ],
   "source": [
    "df.dtypes"
   ]
  },
  {
   "cell_type": "code",
   "execution_count": 7,
   "id": "b5a38f18-cfe1-4236-894a-218dd7c87b94",
   "metadata": {
    "tags": []
   },
   "outputs": [],
   "source": [
    "input_columns = df.columns.tolist()[2:]"
   ]
  },
  {
   "cell_type": "code",
   "execution_count": 8,
   "id": "93d68b0c-ccc7-41ae-a8f3-a41f6366e0f2",
   "metadata": {
    "tags": []
   },
   "outputs": [
    {
     "name": "stderr",
     "output_type": "stream",
     "text": [
      "                                                                                \r"
     ]
    }
   ],
   "source": [
    "dataset = spark.read.csv('./santander-customer-transaction-prediction/train.csv', inferSchema=True, header=True)"
   ]
  },
  {
   "cell_type": "code",
   "execution_count": 9,
   "id": "ba96278d-968a-4a6a-baeb-5d2bfb44c787",
   "metadata": {
    "tags": []
   },
   "outputs": [],
   "source": [
    "input_columns = dataset.columns[2:]"
   ]
  },
  {
   "cell_type": "code",
   "execution_count": 10,
   "id": "cf659dfd-21d7-4d8d-b5c0-fa7cd0b0ae86",
   "metadata": {
    "tags": []
   },
   "outputs": [
    {
     "name": "stderr",
     "output_type": "stream",
     "text": [
      "23/04/20 01:18:51 WARN package: Truncated the string representation of a plan since it was too large. This behavior can be adjusted by setting 'spark.sql.debug.maxToStringFields'.\n"
     ]
    },
    {
     "name": "stdout",
     "output_type": "stream",
     "text": [
      "+--------------------+------+\n",
      "|          Attributes|target|\n",
      "+--------------------+------+\n",
      "|[8.9255,-6.7863,1...|     0|\n",
      "|[11.5006,-4.1473,...|     0|\n",
      "|[8.6093,-2.7457,1...|     0|\n",
      "|[11.0604,-2.1518,...|     0|\n",
      "|[9.8369,-1.4834,1...|     0|\n",
      "|[11.4763,-2.3182,...|     0|\n",
      "|[11.8091,-0.0832,...|     0|\n",
      "|[13.558,-7.9881,1...|     0|\n",
      "|[16.1071,2.4426,1...|     0|\n",
      "|[12.5088,1.9743,8...|     0|\n",
      "|[5.0702,-0.5447,9...|     0|\n",
      "|[12.7188,-7.975,1...|     0|\n",
      "|[8.7671,-4.6154,9...|     0|\n",
      "|[16.3699,1.5934,1...|     1|\n",
      "|[13.808,5.0514,17...|     0|\n",
      "|[3.9416,2.6562,13...|     0|\n",
      "|[5.0615,0.2689,15...|     0|\n",
      "|[8.4199,-1.8128,8...|     0|\n",
      "|[4.875,1.2646,11....|     0|\n",
      "|[4.409,-0.7863,15...|     0|\n",
      "+--------------------+------+\n",
      "only showing top 20 rows\n",
      "\n"
     ]
    }
   ],
   "source": [
    "assembler = VectorAssembler(inputCols=input_columns, outputCol='Attributes')\n",
    "\n",
    "output = assembler.transform(dataset)\n",
    "\n",
    "finalized_data = output.select('Attributes', 'target')\n",
    "\n",
    "finalized_data.show()"
   ]
  },
  {
   "cell_type": "code",
   "execution_count": 11,
   "id": "16afea38-1a20-42c0-84c0-bd58821e3c8a",
   "metadata": {
    "tags": []
   },
   "outputs": [
    {
     "name": "stderr",
     "output_type": "stream",
     "text": [
      "23/04/20 01:18:55 WARN GarbageCollectionMetrics: To enable non-built-in garbage collector(s) List(G1 Concurrent GC), users should configure it(them) to spark.eventLog.gcMetrics.youngGenerationGarbageCollectors or spark.eventLog.gcMetrics.oldGenerationGarbageCollectors\n",
      "23/04/20 01:18:56 WARN InstanceBuilder: Failed to load implementation from:dev.ludovic.netlib.blas.JNIBLAS\n",
      "23/04/20 01:18:56 WARN InstanceBuilder: Failed to load implementation from:dev.ludovic.netlib.blas.VectorBLAS\n",
      "                                                                                \r"
     ]
    },
    {
     "name": "stdout",
     "output_type": "stream",
     "text": [
      "+--------------------+------+--------------------+--------------------+----------+\n",
      "|          Attributes|target|       rawPrediction|         probability|prediction|\n",
      "+--------------------+------+--------------------+--------------------+----------+\n",
      "|[1.335,1.043,12.4...|     0|[2.13411273210513...|[0.89417481198299...|       0.0|\n",
      "|[1.6044,-0.6302,1...|     0|[2.64565108149254...|[0.93374244080596...|       0.0|\n",
      "|[2.4711,3.9116,9....|     0|[-0.7872442274471...|[0.31276069329111...|       1.0|\n",
      "|[2.6501,-2.6365,1...|     0|[3.44963491665143...|[0.96922025121201...|       0.0|\n",
      "|[2.68399999999999...|     0|[4.54358746642842...|[0.98947673222934...|       0.0|\n",
      "|[3.0002,-3.9545,7...|     0|[3.76915944122103...|[0.97744883987202...|       0.0|\n",
      "|[3.466,-0.452,6.3...|     0|[5.20308059976846...|[0.99453048388708...|       0.0|\n",
      "|[3.6675,7.0518,6....|     1|[2.52895390811792...|[0.92614683377770...|       0.0|\n",
      "|[3.7771,4.7124,10...|     0|[1.59106661790295...|[0.83076611581561...|       0.0|\n",
      "|[3.8296,-7.5727,8...|     0|[3.79861593915316...|[0.97808908711731...|       0.0|\n",
      "|[3.9332,0.6518,12...|     0|[3.96763043100641...|[0.98143304544460...|       0.0|\n",
      "|[3.9789,-4.8733,8...|     0|[1.69981491331481...|[0.84551055998568...|       0.0|\n",
      "|[3.9797,2.263,13....|     0|[2.40849551663987...|[0.91747283928921...|       0.0|\n",
      "|[4.1613,3.2024,12...|     0|[1.88736887997391...|[0.86845524076353...|       0.0|\n",
      "|[4.2265,-0.0948,1...|     0|[4.85788210146947...|[0.99229294403226...|       0.0|\n",
      "|[4.2341,-8.5367,1...|     0|[5.16019290150362...|[0.99429217409097...|       0.0|\n",
      "|[4.2344,7.7465,11...|     0|[3.23537951918487...|[0.96214417772043...|       0.0|\n",
      "|[4.2485,1.1863,6....|     0|[4.18518001650184...|[0.98500869373482...|       0.0|\n",
      "|[4.3542,2.359,9.6...|     0|[5.72592718014104...|[0.99675026623921...|       0.0|\n",
      "|[4.5242,-8.524,12...|     0|[5.07302696698032...|[0.99377555417958...|       0.0|\n",
      "+--------------------+------+--------------------+--------------------+----------+\n",
      "only showing top 20 rows\n",
      "\n"
     ]
    }
   ],
   "source": [
    "train_data, test_data = finalized_data.randomSplit([0.8, 0.2])\n",
    "\n",
    "regressor = LogisticRegression(featuresCol='Attributes', labelCol='target')\n",
    "\n",
    "regressor = regressor.fit(train_data)\n",
    "\n",
    "pred = regressor.evaluate(test_data)\n",
    "\n",
    "pred.predictions.show()"
   ]
  },
  {
   "cell_type": "code",
   "execution_count": 12,
   "id": "9eff2821-97fe-4e0f-acc9-04bee312ae1f",
   "metadata": {
    "tags": []
   },
   "outputs": [
    {
     "name": "stdout",
     "output_type": "stream",
     "text": [
      "coef: DenseVector([0.0539, 0.0344, 0.0607, 0.0193, 0.026, 0.0136, 0.2467, -0.0016, 0.0198, -0.0921, 0.0015, 0.0179, -1.2083, -0.0314, -0.0142, 0.1449, 0.006, -0.0011, 0.02, 0.0066, -0.0097, -0.0236, 0.0659, -0.1522, 0.031, 0.1331, 0.0399, -0.0125, -0.0851, 0.0081, 0.0009, -0.0428, 0.0286, -0.0375, -0.2799, 0.0237, -0.0428, 0.0133, -0.004, -0.0022, 0.0198, -0.0, -0.0361, -0.2843, -0.0309, -0.0029, -0.0012, 0.0024, 0.0096, 0.012, -0.0545, 0.0084, 0.018, 0.2801, -0.008, 0.0111, -0.0309, -0.0991, -0.0201, -0.0559, 0.0099, 0.0031, 0.0196, -0.0136, -0.0404, 0.0072, 0.079, 0.0218, -6.4708, 0.0045, 0.007, 0.4234, -0.0079, -0.0013, 0.0052, -0.0252, -0.0229, -0.0185, 0.0779, 0.0236, -0.0261, -0.0992, 0.0089, -0.0072, 0.008, -0.027, -0.0178, -0.016, -0.0242, 0.0304, 0.0064, 0.9775, -0.0327, -0.289, 0.0623, 0.2391, 0.0037, 0.0061, -0.0066, 0.0897, 0.0008, -0.0104, -0.0071, 0.0661, -0.0519, 0.101, 0.0706, -0.015, -0.8244, -0.0372, 0.0498, 0.1027, 0.0616, -0.0134, -0.101, -0.0622, -0.0555, 0.0006, 0.0158, 0.0222, -0.003, -0.0809, -0.029, -0.022, 0.0011, 0.231, 0.0189, -0.0383, 0.0275, -0.009, 0.142, -0.2051, -0.0665, 0.4046, 0.0101, 0.0086, -0.0031, 0.0101, 0.0114, -0.0295, 0.0135, -0.016, -0.0136, -0.0178, 0.0961, 0.0327, -0.0866, 0.017, -0.8865, -0.0136, -0.0265, 0.0267, -0.0065, -0.0036, -0.0244, 0.0181, -0.0723, 0.0177, -0.0048, 0.0176, -0.0021, 0.1491, 0.0794, 0.0196, 0.0264, -0.0377, -0.5576, 0.0102, 0.0161, -0.4606, 0.0355, 0.0144, -0.0143, 0.0282, -0.0262, 0.0367, 0.0033, -0.0519, -0.0055, 0.0642, 0.0175, 0.0353, -0.0038, -0.0002, 0.0167, -0.0007, -0.0262, 0.003, -0.0279, 0.0507, 0.0405, 0.0416, -0.0895, -0.0137, -0.0219, 0.0668, 0.0161, -0.1352, -0.0612, 0.0097])\n",
      "intr: 66.15161968418028\n"
     ]
    }
   ],
   "source": [
    "coef = regressor.coefficients\n",
    "\n",
    "intr = regressor.intercept\n",
    "\n",
    "print('coef: %a' % coef)\n",
    "print('intr: %a' % intr)"
   ]
  },
  {
   "cell_type": "code",
   "execution_count": 14,
   "id": "eea47081-4ac5-4634-99f4-8d84e9a12e62",
   "metadata": {
    "tags": []
   },
   "outputs": [],
   "source": [
    "eval = BinaryClassificationEvaluator(rawPredictionCol='rawPrediction', labelCol='target', metricName='areaUnderROC')"
   ]
  },
  {
   "cell_type": "code",
   "execution_count": 15,
   "id": "7d113437-7595-414f-a160-40dcff665ec3",
   "metadata": {
    "tags": []
   },
   "outputs": [
    {
     "name": "stderr",
     "output_type": "stream",
     "text": [
      "                                                                                \r"
     ]
    },
    {
     "name": "stdout",
     "output_type": "stream",
     "text": [
      "ROC: 0.854\n"
     ]
    }
   ],
   "source": [
    "roc = eval.evaluate(pred.predictions)\n",
    "print('ROC: %.3f' % roc)"
   ]
  }
 ],
 "metadata": {
  "kernelspec": {
   "display_name": "Python 3 (ipykernel)",
   "language": "python",
   "name": "python3"
  },
  "language_info": {
   "codemirror_mode": {
    "name": "ipython",
    "version": 3
   },
   "file_extension": ".py",
   "mimetype": "text/x-python",
   "name": "python",
   "nbconvert_exporter": "python",
   "pygments_lexer": "ipython3",
   "version": "3.10.10"
  }
 },
 "nbformat": 4,
 "nbformat_minor": 5
}
